{
 "cells": [
  {
   "cell_type": "code",
   "execution_count": 1,
   "id": "c8ef4d50",
   "metadata": {},
   "outputs": [],
   "source": [
    "# installing faker using pip to generate the data\n",
    "\n",
    "#pip install faker"
   ]
  },
  {
   "cell_type": "code",
   "execution_count": 2,
   "id": "41d2912a",
   "metadata": {},
   "outputs": [],
   "source": [
    "# importing Faker from faker library\n",
    "\n",
    "from faker import Faker"
   ]
  },
  {
   "cell_type": "code",
   "execution_count": 3,
   "id": "8c227cd0",
   "metadata": {},
   "outputs": [],
   "source": [
    "#importing the required liabraries\n",
    "\n",
    "import pandas as pd\n",
    "import numpy as np\n",
    "from datetime import datetime, timedelta\n",
    "import random"
   ]
  },
  {
   "cell_type": "code",
   "execution_count": 4,
   "id": "9e8aeb3b",
   "metadata": {},
   "outputs": [],
   "source": [
    "# defining the fields/columns of the customer_master table\n",
    "\n",
    "customer_fields = ['customerid', 'name', 'address', 'city', 'state', 'pincode', 'update_timestamp']"
   ]
  },
  {
   "cell_type": "code",
   "execution_count": 5,
   "id": "03094b8a",
   "metadata": {},
   "outputs": [],
   "source": [
    "#list of states and the respective cities in which the company is operating\n",
    "\n",
    "states = {\n",
    "           'Karnataka'      : ['Bengaluru', 'Mangaluru', 'Mysuru', 'Raichur'],\n",
    "           'Maharashtra'    : ['Ahmednagar', 'Mumbai', 'Nagpur', 'Pune'],\n",
    "           'Odisha'         : ['Bhubaneswar', 'Cuttack', 'Rourkela'],\n",
    "           'Tamil Nadu'     : ['Chennai', 'Coimbatore', 'Madurai'],\n",
    "           'Telangana'      : ['Hyderabad', 'Nizamabad', 'Warangal'],\n",
    "           'Uttar Pradesh'  : ['Agra', 'Kanpur', 'Lucknow']\n",
    "    \n",
    "}"
   ]
  },
  {
   "cell_type": "code",
   "execution_count": 6,
   "id": "09d7ff59",
   "metadata": {},
   "outputs": [],
   "source": [
    "# framing the customer_master table using 1000 unique customer records\n",
    "\n",
    "customer_master = pd.DataFrame(columns=customer_fields, index=range(1,1001))\n",
    "Faker.seed(42)           # using a seed to generate the same data again and again\n",
    "random.seed(42)          # using a seed to generate the same data again and again \n",
    "fake = Faker('en_IN')    # generating data that is relevant to India\n",
    "\n",
    "for i in range(1,1001):\n",
    "    customer_master['customerid'][i] = i\n",
    "    customer_master['name'][i] = fake.name()\n",
    "    customer_master['address'][i] = fake.street_address()\n",
    "    customer_master['state'][i] = fake.random_element(states.keys())\n",
    "    customer_master['city'][i] = fake.random_element(states[customer_master['state'][i]])\n",
    "    customer_master['pincode'][i] = fake.postcode()\n",
    "    customer_master['update_timestamp'][i] = fake.date_time_this_year()"
   ]
  },
  {
   "cell_type": "code",
   "execution_count": 7,
   "id": "2dd42fff",
   "metadata": {},
   "outputs": [
    {
     "data": {
      "text/plain": [
       "customerid          1000\n",
       "name                 995\n",
       "address             1000\n",
       "city                  20\n",
       "state                  6\n",
       "pincode              999\n",
       "update_timestamp    1000\n",
       "dtype: int64"
      ]
     },
     "execution_count": 7,
     "metadata": {},
     "output_type": "execute_result"
    }
   ],
   "source": [
    "# checking for the number of unique values in each of the columns\n",
    "\n",
    "customer_master.nunique()"
   ]
  },
  {
   "cell_type": "code",
   "execution_count": 8,
   "id": "12d14bf6",
   "metadata": {},
   "outputs": [
    {
     "data": {
      "text/html": [
       "<div>\n",
       "<style scoped>\n",
       "    .dataframe tbody tr th:only-of-type {\n",
       "        vertical-align: middle;\n",
       "    }\n",
       "\n",
       "    .dataframe tbody tr th {\n",
       "        vertical-align: top;\n",
       "    }\n",
       "\n",
       "    .dataframe thead th {\n",
       "        text-align: right;\n",
       "    }\n",
       "</style>\n",
       "<table border=\"1\" class=\"dataframe\">\n",
       "  <thead>\n",
       "    <tr style=\"text-align: right;\">\n",
       "      <th></th>\n",
       "      <th>customerid</th>\n",
       "      <th>name</th>\n",
       "      <th>address</th>\n",
       "      <th>city</th>\n",
       "      <th>state</th>\n",
       "      <th>pincode</th>\n",
       "      <th>update_timestamp</th>\n",
       "    </tr>\n",
       "  </thead>\n",
       "  <tbody>\n",
       "    <tr>\n",
       "      <th>1</th>\n",
       "      <td>1</td>\n",
       "      <td>Anay Shanker</td>\n",
       "      <td>321\\nBassi Circle</td>\n",
       "      <td>Nizamabad</td>\n",
       "      <td>Telangana</td>\n",
       "      <td>013389</td>\n",
       "      <td>2023-01-11 07:19:59</td>\n",
       "    </tr>\n",
       "    <tr>\n",
       "      <th>2</th>\n",
       "      <td>2</td>\n",
       "      <td>Saanvi Sachar</td>\n",
       "      <td>794\\nSibal Nagar</td>\n",
       "      <td>Pune</td>\n",
       "      <td>Maharashtra</td>\n",
       "      <td>423511</td>\n",
       "      <td>2023-05-28 13:10:44</td>\n",
       "    </tr>\n",
       "    <tr>\n",
       "      <th>3</th>\n",
       "      <td>3</td>\n",
       "      <td>Taimur Vaidya</td>\n",
       "      <td>40/78\\nGulati Zila</td>\n",
       "      <td>Mysuru</td>\n",
       "      <td>Karnataka</td>\n",
       "      <td>931034</td>\n",
       "      <td>2023-01-31 23:42:54</td>\n",
       "    </tr>\n",
       "    <tr>\n",
       "      <th>4</th>\n",
       "      <td>4</td>\n",
       "      <td>Divyansh Gupta</td>\n",
       "      <td>52\\nGoel Path</td>\n",
       "      <td>Nagpur</td>\n",
       "      <td>Maharashtra</td>\n",
       "      <td>928327</td>\n",
       "      <td>2023-05-28 08:46:51</td>\n",
       "    </tr>\n",
       "    <tr>\n",
       "      <th>5</th>\n",
       "      <td>5</td>\n",
       "      <td>Navya Sankaran</td>\n",
       "      <td>50/305, Desai Marg</td>\n",
       "      <td>Mangaluru</td>\n",
       "      <td>Karnataka</td>\n",
       "      <td>376724</td>\n",
       "      <td>2023-02-24 05:26:56</td>\n",
       "    </tr>\n",
       "  </tbody>\n",
       "</table>\n",
       "</div>"
      ],
      "text/plain": [
       "  customerid            name             address       city        state  \\\n",
       "1          1    Anay Shanker   321\\nBassi Circle  Nizamabad    Telangana   \n",
       "2          2   Saanvi Sachar    794\\nSibal Nagar       Pune  Maharashtra   \n",
       "3          3   Taimur Vaidya  40/78\\nGulati Zila     Mysuru    Karnataka   \n",
       "4          4  Divyansh Gupta       52\\nGoel Path     Nagpur  Maharashtra   \n",
       "5          5  Navya Sankaran  50/305, Desai Marg  Mangaluru    Karnataka   \n",
       "\n",
       "  pincode     update_timestamp  \n",
       "1  013389  2023-01-11 07:19:59  \n",
       "2  423511  2023-05-28 13:10:44  \n",
       "3  931034  2023-01-31 23:42:54  \n",
       "4  928327  2023-05-28 08:46:51  \n",
       "5  376724  2023-02-24 05:26:56  "
      ]
     },
     "execution_count": 8,
     "metadata": {},
     "output_type": "execute_result"
    }
   ],
   "source": [
    "customer_master.head()"
   ]
  },
  {
   "cell_type": "code",
   "execution_count": 9,
   "id": "b4a51df3",
   "metadata": {},
   "outputs": [],
   "source": [
    "customer_master = customer_master.reset_index(drop=True)"
   ]
  },
  {
   "cell_type": "code",
   "execution_count": 10,
   "id": "77491779",
   "metadata": {},
   "outputs": [
    {
     "data": {
      "text/html": [
       "<div>\n",
       "<style scoped>\n",
       "    .dataframe tbody tr th:only-of-type {\n",
       "        vertical-align: middle;\n",
       "    }\n",
       "\n",
       "    .dataframe tbody tr th {\n",
       "        vertical-align: top;\n",
       "    }\n",
       "\n",
       "    .dataframe thead th {\n",
       "        text-align: right;\n",
       "    }\n",
       "</style>\n",
       "<table border=\"1\" class=\"dataframe\">\n",
       "  <thead>\n",
       "    <tr style=\"text-align: right;\">\n",
       "      <th></th>\n",
       "      <th>customerid</th>\n",
       "      <th>name</th>\n",
       "      <th>address</th>\n",
       "      <th>city</th>\n",
       "      <th>state</th>\n",
       "      <th>pincode</th>\n",
       "      <th>update_timestamp</th>\n",
       "    </tr>\n",
       "  </thead>\n",
       "  <tbody>\n",
       "    <tr>\n",
       "      <th>0</th>\n",
       "      <td>1</td>\n",
       "      <td>Anay Shanker</td>\n",
       "      <td>321\\nBassi Circle</td>\n",
       "      <td>Nizamabad</td>\n",
       "      <td>Telangana</td>\n",
       "      <td>013389</td>\n",
       "      <td>2023-01-11 07:19:59</td>\n",
       "    </tr>\n",
       "    <tr>\n",
       "      <th>1</th>\n",
       "      <td>2</td>\n",
       "      <td>Saanvi Sachar</td>\n",
       "      <td>794\\nSibal Nagar</td>\n",
       "      <td>Pune</td>\n",
       "      <td>Maharashtra</td>\n",
       "      <td>423511</td>\n",
       "      <td>2023-05-28 13:10:44</td>\n",
       "    </tr>\n",
       "    <tr>\n",
       "      <th>2</th>\n",
       "      <td>3</td>\n",
       "      <td>Taimur Vaidya</td>\n",
       "      <td>40/78\\nGulati Zila</td>\n",
       "      <td>Mysuru</td>\n",
       "      <td>Karnataka</td>\n",
       "      <td>931034</td>\n",
       "      <td>2023-01-31 23:42:54</td>\n",
       "    </tr>\n",
       "    <tr>\n",
       "      <th>3</th>\n",
       "      <td>4</td>\n",
       "      <td>Divyansh Gupta</td>\n",
       "      <td>52\\nGoel Path</td>\n",
       "      <td>Nagpur</td>\n",
       "      <td>Maharashtra</td>\n",
       "      <td>928327</td>\n",
       "      <td>2023-05-28 08:46:51</td>\n",
       "    </tr>\n",
       "    <tr>\n",
       "      <th>4</th>\n",
       "      <td>5</td>\n",
       "      <td>Navya Sankaran</td>\n",
       "      <td>50/305, Desai Marg</td>\n",
       "      <td>Mangaluru</td>\n",
       "      <td>Karnataka</td>\n",
       "      <td>376724</td>\n",
       "      <td>2023-02-24 05:26:56</td>\n",
       "    </tr>\n",
       "  </tbody>\n",
       "</table>\n",
       "</div>"
      ],
      "text/plain": [
       "  customerid            name             address       city        state  \\\n",
       "0          1    Anay Shanker   321\\nBassi Circle  Nizamabad    Telangana   \n",
       "1          2   Saanvi Sachar    794\\nSibal Nagar       Pune  Maharashtra   \n",
       "2          3   Taimur Vaidya  40/78\\nGulati Zila     Mysuru    Karnataka   \n",
       "3          4  Divyansh Gupta       52\\nGoel Path     Nagpur  Maharashtra   \n",
       "4          5  Navya Sankaran  50/305, Desai Marg  Mangaluru    Karnataka   \n",
       "\n",
       "  pincode     update_timestamp  \n",
       "0  013389  2023-01-11 07:19:59  \n",
       "1  423511  2023-05-28 13:10:44  \n",
       "2  931034  2023-01-31 23:42:54  \n",
       "3  928327  2023-05-28 08:46:51  \n",
       "4  376724  2023-02-24 05:26:56  "
      ]
     },
     "execution_count": 10,
     "metadata": {},
     "output_type": "execute_result"
    }
   ],
   "source": [
    "customer_master.head()"
   ]
  },
  {
   "cell_type": "markdown",
   "id": "c799b179",
   "metadata": {},
   "source": [
    "### Product Table"
   ]
  },
  {
   "cell_type": "code",
   "execution_count": 11,
   "id": "27de3a13",
   "metadata": {},
   "outputs": [],
   "source": [
    "# defining the fields/columns of the product_master table\n",
    "\n",
    "product_fields = ['productid', 'productcode', 'productname', 'sku', 'rate', 'isactive']"
   ]
  },
  {
   "cell_type": "code",
   "execution_count": 12,
   "id": "f2e2e3af",
   "metadata": {},
   "outputs": [],
   "source": [
    "# listing down the brands and their products to make a list of 50 different products\n",
    "\n",
    "product_brands = ['HUL', 'ITC', 'Amul', 'Pro Nature', 'Pure and Sure']\n",
    "product_types = ['wheat flour', 'honey', 'fruits', 'grains', 'essential oils', 'gram flour',\n",
    "                 'foxnut', 'biscuits', 'oats', 'cornflakes']"
   ]
  },
  {
   "cell_type": "code",
   "execution_count": 13,
   "id": "6cdc18ef",
   "metadata": {},
   "outputs": [
    {
     "name": "stdout",
     "output_type": "stream",
     "text": [
      "['HUL wheat flour', 'HUL honey', 'HUL fruits', 'HUL grains', 'HUL essential oils', 'HUL gram flour', 'HUL foxnut', 'HUL biscuits', 'HUL oats', 'HUL cornflakes', 'ITC wheat flour', 'ITC honey', 'ITC fruits', 'ITC grains', 'ITC essential oils', 'ITC gram flour', 'ITC foxnut', 'ITC biscuits', 'ITC oats', 'ITC cornflakes', 'Amul wheat flour', 'Amul honey', 'Amul fruits', 'Amul grains', 'Amul essential oils', 'Amul gram flour', 'Amul foxnut', 'Amul biscuits', 'Amul oats', 'Amul cornflakes', 'Pro Nature wheat flour', 'Pro Nature honey', 'Pro Nature fruits', 'Pro Nature grains', 'Pro Nature essential oils', 'Pro Nature gram flour', 'Pro Nature foxnut', 'Pro Nature biscuits', 'Pro Nature oats', 'Pro Nature cornflakes', 'Pure and Sure wheat flour', 'Pure and Sure honey', 'Pure and Sure fruits', 'Pure and Sure grains', 'Pure and Sure essential oils', 'Pure and Sure gram flour', 'Pure and Sure foxnut', 'Pure and Sure biscuits', 'Pure and Sure oats', 'Pure and Sure cornflakes']\n"
     ]
    }
   ],
   "source": [
    "# making 50 different products by concatinating the brands along with the product types \n",
    "\n",
    "productname = ((a,b) for a in product_brands for b in product_types)\n",
    "productlist=[]\n",
    "for a,b in productname:\n",
    "    productlist.append(a+ ' '+b)\n",
    "print(productlist)"
   ]
  },
  {
   "cell_type": "code",
   "execution_count": 14,
   "id": "e474d69b",
   "metadata": {},
   "outputs": [],
   "source": [
    "# framing the product_master table \n",
    "\n",
    "product_master = pd.DataFrame(columns=product_fields, index=range(1,101))\n",
    "Faker.seed(42)\n",
    "# Initializing variables\n",
    "prev_rate = 0\n",
    "\n",
    "# Loop to populate the DataFrame with products from the product list \n",
    "for i in range(1, 101):\n",
    "    product_master.at[i, 'productid'] = i\n",
    "    product_master.at[i, 'productname'] = productlist[(i - 1) // 2]  \n",
    "    \n",
    "    if i % 2 != 0:  \n",
    "        # '?' for adding a letter \n",
    "        # and '#' for adding a number\n",
    "        product_master.at[i, 'productcode'] = fake.bothify('?##', letters='ABCDEF')\n",
    "        product_master.at[i, 'sku'] = str(fake.random_int(min=1, max=5)) + fake.bothify('?', letters=['kg'])\n",
    "    else:\n",
    "        product_master.at[i, 'productcode'] = fake.bothify('?##', letters='GHIJKL')\n",
    "        product_master.at[i, 'sku'] = str(fake.random_int(min=6, max=10)) + fake.bothify('?', letters=['kg'])\n",
    "        prev_rate += fake.random_int(min=500, max=1000)\n",
    "\n",
    "    product_master.at[i, 'rate'] = prev_rate + fake.random_int(min=500, max=1000)\n",
    "    product_master.at[i, 'isactive'] = fake.boolean(chance_of_getting_true=75)\n",
    "\n",
    "# To ensure that rate is numeric\n",
    "product_master['rate'] = pd.to_numeric(product_master['rate'], downcast='integer')"
   ]
  },
  {
   "cell_type": "code",
   "execution_count": 15,
   "id": "5b0ef9e9",
   "metadata": {},
   "outputs": [
    {
     "data": {
      "text/plain": [
       "productid      100\n",
       "productcode     95\n",
       "productname     50\n",
       "sku             10\n",
       "rate           100\n",
       "isactive         2\n",
       "dtype: int64"
      ]
     },
     "execution_count": 15,
     "metadata": {},
     "output_type": "execute_result"
    }
   ],
   "source": [
    "product_master.nunique()"
   ]
  },
  {
   "cell_type": "code",
   "execution_count": 36,
   "id": "09b5011b",
   "metadata": {},
   "outputs": [
    {
     "data": {
      "text/plain": [
       "productid      object\n",
       "productcode    object\n",
       "productname    object\n",
       "sku            object\n",
       "rate            int32\n",
       "isactive       object\n",
       "dtype: object"
      ]
     },
     "execution_count": 36,
     "metadata": {},
     "output_type": "execute_result"
    }
   ],
   "source": [
    "product_master.dtypes"
   ]
  },
  {
   "cell_type": "code",
   "execution_count": 16,
   "id": "228d3ad8",
   "metadata": {},
   "outputs": [
    {
     "data": {
      "text/html": [
       "<div>\n",
       "<style scoped>\n",
       "    .dataframe tbody tr th:only-of-type {\n",
       "        vertical-align: middle;\n",
       "    }\n",
       "\n",
       "    .dataframe tbody tr th {\n",
       "        vertical-align: top;\n",
       "    }\n",
       "\n",
       "    .dataframe thead th {\n",
       "        text-align: right;\n",
       "    }\n",
       "</style>\n",
       "<table border=\"1\" class=\"dataframe\">\n",
       "  <thead>\n",
       "    <tr style=\"text-align: right;\">\n",
       "      <th></th>\n",
       "      <th>productid</th>\n",
       "      <th>productcode</th>\n",
       "      <th>productname</th>\n",
       "      <th>sku</th>\n",
       "      <th>rate</th>\n",
       "      <th>isactive</th>\n",
       "    </tr>\n",
       "  </thead>\n",
       "  <tbody>\n",
       "    <tr>\n",
       "      <th>1</th>\n",
       "      <td>1</td>\n",
       "      <td>F10</td>\n",
       "      <td>HUL wheat flour</td>\n",
       "      <td>3kg</td>\n",
       "      <td>614</td>\n",
       "      <td>True</td>\n",
       "    </tr>\n",
       "    <tr>\n",
       "      <th>2</th>\n",
       "      <td>2</td>\n",
       "      <td>G18</td>\n",
       "      <td>HUL wheat flour</td>\n",
       "      <td>10kg</td>\n",
       "      <td>1031</td>\n",
       "      <td>True</td>\n",
       "    </tr>\n",
       "    <tr>\n",
       "      <th>3</th>\n",
       "      <td>3</td>\n",
       "      <td>E33</td>\n",
       "      <td>HUL honey</td>\n",
       "      <td>5kg</td>\n",
       "      <td>1303</td>\n",
       "      <td>True</td>\n",
       "    </tr>\n",
       "    <tr>\n",
       "      <th>4</th>\n",
       "      <td>4</td>\n",
       "      <td>H86</td>\n",
       "      <td>HUL honey</td>\n",
       "      <td>9kg</td>\n",
       "      <td>2375</td>\n",
       "      <td>True</td>\n",
       "    </tr>\n",
       "    <tr>\n",
       "      <th>5</th>\n",
       "      <td>5</td>\n",
       "      <td>C26</td>\n",
       "      <td>HUL fruits</td>\n",
       "      <td>3kg</td>\n",
       "      <td>2040</td>\n",
       "      <td>False</td>\n",
       "    </tr>\n",
       "  </tbody>\n",
       "</table>\n",
       "</div>"
      ],
      "text/plain": [
       "  productid productcode      productname   sku  rate isactive\n",
       "1         1         F10  HUL wheat flour   3kg   614     True\n",
       "2         2         G18  HUL wheat flour  10kg  1031     True\n",
       "3         3         E33        HUL honey   5kg  1303     True\n",
       "4         4         H86        HUL honey   9kg  2375     True\n",
       "5         5         C26       HUL fruits   3kg  2040    False"
      ]
     },
     "execution_count": 16,
     "metadata": {},
     "output_type": "execute_result"
    }
   ],
   "source": [
    "product_master.head()"
   ]
  },
  {
   "cell_type": "markdown",
   "id": "0232b6af",
   "metadata": {},
   "source": [
    "### Order Details"
   ]
  },
  {
   "cell_type": "code",
   "execution_count": 17,
   "id": "8b84c583",
   "metadata": {},
   "outputs": [],
   "source": [
    "# defining the fields/columns in the order_details table\n",
    "\n",
    "order_details_fields = ['orderid','customerid','order_status_update_timestamp','order_status']"
   ]
  },
  {
   "cell_type": "code",
   "execution_count": 18,
   "id": "f0553a46",
   "metadata": {},
   "outputs": [],
   "source": [
    "# Creating 3 table for orders dividing them into three categories based on their order_statuses\n",
    "\n",
    "orders_Received = pd.DataFrame(columns=order_details_fields, index = range(1,20001))\n",
    "orders_inProgress = pd.DataFrame(columns=order_details_fields, index = range(1,20001))\n",
    "orders_Delivered = pd.DataFrame(columns=order_details_fields, index = range(1,20001))"
   ]
  },
  {
   "cell_type": "code",
   "execution_count": 19,
   "id": "88c005fb",
   "metadata": {
    "scrolled": true
   },
   "outputs": [],
   "source": [
    "# generating 20000 orders in each of the 3 tables\n",
    "\n",
    "for i in range(1,20001):\n",
    "    orders_Received['orderid'][i]=i\n",
    "    orders_Received['customerid'][i]=fake.random_element(customer_master['customerid'])\n",
    "    orders_Received['order_status_update_timestamp'][i]=fake.date_time_this_year()\n",
    "    orders_Received['order_status']='Received'\n",
    "    \n",
    "for i in range(1,20001):\n",
    "    orders_inProgress['orderid'][i]=i\n",
    "    orders_inProgress['customerid'][i]=orders_Received['customerid'][i]\n",
    "    orders_inProgress['order_status_update_timestamp'][i]=orders_Received['order_status_update_timestamp'][i]+timedelta(seconds=fake.random_int(min=1, max=86400))\n",
    "    orders_inProgress['order_status'][i]='InProgress'\n",
    "    \n",
    "for i in range(1,20001):\n",
    "    orders_Delivered['orderid'][i]=i\n",
    "    orders_Delivered['customerid'][i]=orders_Received['customerid'][i]\n",
    "    orders_Delivered['order_status_update_timestamp'][i]=orders_inProgress['order_status_update_timestamp'][i]+timedelta(seconds=fake.random_int(min=1, max=86400))\n",
    "    orders_Delivered['order_status'][i]='Delivered'"
   ]
  },
  {
   "cell_type": "code",
   "execution_count": 20,
   "id": "a8d86096",
   "metadata": {},
   "outputs": [],
   "source": [
    "# forming a single table using the previously formed 3 tables \n",
    "\n",
    "order_details = pd.concat([orders_Received, orders_inProgress, orders_Delivered])"
   ]
  },
  {
   "cell_type": "code",
   "execution_count": 21,
   "id": "1ddb9153",
   "metadata": {},
   "outputs": [
    {
     "data": {
      "text/html": [
       "<div>\n",
       "<style scoped>\n",
       "    .dataframe tbody tr th:only-of-type {\n",
       "        vertical-align: middle;\n",
       "    }\n",
       "\n",
       "    .dataframe tbody tr th {\n",
       "        vertical-align: top;\n",
       "    }\n",
       "\n",
       "    .dataframe thead th {\n",
       "        text-align: right;\n",
       "    }\n",
       "</style>\n",
       "<table border=\"1\" class=\"dataframe\">\n",
       "  <thead>\n",
       "    <tr style=\"text-align: right;\">\n",
       "      <th></th>\n",
       "      <th>orderid</th>\n",
       "      <th>customerid</th>\n",
       "      <th>order_status_update_timestamp</th>\n",
       "      <th>order_status</th>\n",
       "    </tr>\n",
       "  </thead>\n",
       "  <tbody>\n",
       "    <tr>\n",
       "      <th>1</th>\n",
       "      <td>1</td>\n",
       "      <td>590</td>\n",
       "      <td>2023-09-21 01:20:03</td>\n",
       "      <td>Received</td>\n",
       "    </tr>\n",
       "    <tr>\n",
       "      <th>1</th>\n",
       "      <td>1</td>\n",
       "      <td>590</td>\n",
       "      <td>2023-09-21 05:43:22</td>\n",
       "      <td>InProgress</td>\n",
       "    </tr>\n",
       "    <tr>\n",
       "      <th>1</th>\n",
       "      <td>1</td>\n",
       "      <td>590</td>\n",
       "      <td>2023-09-21 06:45:07</td>\n",
       "      <td>Delivered</td>\n",
       "    </tr>\n",
       "    <tr>\n",
       "      <th>2</th>\n",
       "      <td>2</td>\n",
       "      <td>930</td>\n",
       "      <td>2023-05-26 18:06:51</td>\n",
       "      <td>Received</td>\n",
       "    </tr>\n",
       "    <tr>\n",
       "      <th>2</th>\n",
       "      <td>2</td>\n",
       "      <td>930</td>\n",
       "      <td>2023-05-27 02:55:41</td>\n",
       "      <td>InProgress</td>\n",
       "    </tr>\n",
       "    <tr>\n",
       "      <th>...</th>\n",
       "      <td>...</td>\n",
       "      <td>...</td>\n",
       "      <td>...</td>\n",
       "      <td>...</td>\n",
       "    </tr>\n",
       "    <tr>\n",
       "      <th>19999</th>\n",
       "      <td>19999</td>\n",
       "      <td>228</td>\n",
       "      <td>2023-09-26 09:04:54</td>\n",
       "      <td>Received</td>\n",
       "    </tr>\n",
       "    <tr>\n",
       "      <th>19999</th>\n",
       "      <td>19999</td>\n",
       "      <td>228</td>\n",
       "      <td>2023-09-26 11:12:08</td>\n",
       "      <td>InProgress</td>\n",
       "    </tr>\n",
       "    <tr>\n",
       "      <th>20000</th>\n",
       "      <td>20000</td>\n",
       "      <td>200</td>\n",
       "      <td>2023-06-14 06:59:16</td>\n",
       "      <td>InProgress</td>\n",
       "    </tr>\n",
       "    <tr>\n",
       "      <th>20000</th>\n",
       "      <td>20000</td>\n",
       "      <td>200</td>\n",
       "      <td>2023-06-13 17:31:09</td>\n",
       "      <td>Received</td>\n",
       "    </tr>\n",
       "    <tr>\n",
       "      <th>20000</th>\n",
       "      <td>20000</td>\n",
       "      <td>200</td>\n",
       "      <td>2023-06-14 18:42:52</td>\n",
       "      <td>Delivered</td>\n",
       "    </tr>\n",
       "  </tbody>\n",
       "</table>\n",
       "<p>60000 rows × 4 columns</p>\n",
       "</div>"
      ],
      "text/plain": [
       "      orderid customerid order_status_update_timestamp order_status\n",
       "1           1        590           2023-09-21 01:20:03     Received\n",
       "1           1        590           2023-09-21 05:43:22   InProgress\n",
       "1           1        590           2023-09-21 06:45:07    Delivered\n",
       "2           2        930           2023-05-26 18:06:51     Received\n",
       "2           2        930           2023-05-27 02:55:41   InProgress\n",
       "...       ...        ...                           ...          ...\n",
       "19999   19999        228           2023-09-26 09:04:54     Received\n",
       "19999   19999        228           2023-09-26 11:12:08   InProgress\n",
       "20000   20000        200           2023-06-14 06:59:16   InProgress\n",
       "20000   20000        200           2023-06-13 17:31:09     Received\n",
       "20000   20000        200           2023-06-14 18:42:52    Delivered\n",
       "\n",
       "[60000 rows x 4 columns]"
      ]
     },
     "execution_count": 21,
     "metadata": {},
     "output_type": "execute_result"
    }
   ],
   "source": [
    "# sorting the values of the order_details table by the 'orderid'\n",
    "\n",
    "order_details.sort_values(by=[\"orderid\"])"
   ]
  },
  {
   "cell_type": "code",
   "execution_count": 22,
   "id": "6accfe78",
   "metadata": {},
   "outputs": [
    {
     "data": {
      "text/plain": [
       "20000"
      ]
     },
     "execution_count": 22,
     "metadata": {},
     "output_type": "execute_result"
    }
   ],
   "source": [
    "# checking the for the unique orders \n",
    "\n",
    "len(order_details['orderid'].unique())"
   ]
  },
  {
   "cell_type": "markdown",
   "id": "2bdc24fb",
   "metadata": {},
   "source": [
    "### Order Items"
   ]
  },
  {
   "cell_type": "code",
   "execution_count": 23,
   "id": "19e74da8",
   "metadata": {},
   "outputs": [],
   "source": [
    "# defining the fields/columns for the order_items table\n",
    "\n",
    "order_item_fields = ['orderid','productid','quantity']"
   ]
  },
  {
   "cell_type": "code",
   "execution_count": 24,
   "id": "66243207",
   "metadata": {},
   "outputs": [],
   "source": [
    "# framing the order_items table\n",
    "\n",
    "order_items = pd.DataFrame(columns=order_item_fields, index = range(0,50000))"
   ]
  },
  {
   "cell_type": "code",
   "execution_count": 25,
   "id": "fa0b66fe",
   "metadata": {},
   "outputs": [],
   "source": [
    "# Define the number of orders\n",
    "num_orders = 20000\n",
    "\n",
    "# Initializing lists to store data\n",
    "order_id = []\n",
    "product_id = []\n",
    "quantity = []\n",
    "\n",
    "# Generating data for order_items\n",
    "for i in range(1, num_orders + 1):\n",
    "    num_products = random.randint(1, 10)  # Random number of products per order\n",
    "    \n",
    "    # Generating a random list of unique product IDs\n",
    "    available_products = list(range(1, 51))\n",
    "    selected_products = random.sample(available_products, num_products)\n",
    "    \n",
    "    # Generating random quantities for each selected product\n",
    "    for product in selected_products:\n",
    "        order_id.append(i)\n",
    "        product_id.append(product)\n",
    "        quantity.append(random.randint(1, 10))\n",
    "\n",
    "# Creating the order_items DataFrame\n",
    "order_items = pd.DataFrame({'orderid': order_id, 'productid': product_id, 'quantity': quantity})"
   ]
  },
  {
   "cell_type": "code",
   "execution_count": 26,
   "id": "8907bbc9",
   "metadata": {},
   "outputs": [
    {
     "data": {
      "text/html": [
       "<div>\n",
       "<style scoped>\n",
       "    .dataframe tbody tr th:only-of-type {\n",
       "        vertical-align: middle;\n",
       "    }\n",
       "\n",
       "    .dataframe tbody tr th {\n",
       "        vertical-align: top;\n",
       "    }\n",
       "\n",
       "    .dataframe thead th {\n",
       "        text-align: right;\n",
       "    }\n",
       "</style>\n",
       "<table border=\"1\" class=\"dataframe\">\n",
       "  <thead>\n",
       "    <tr style=\"text-align: right;\">\n",
       "      <th></th>\n",
       "      <th>orderid</th>\n",
       "      <th>productid</th>\n",
       "      <th>quantity</th>\n",
       "    </tr>\n",
       "  </thead>\n",
       "  <tbody>\n",
       "    <tr>\n",
       "      <th>0</th>\n",
       "      <td>1</td>\n",
       "      <td>2</td>\n",
       "      <td>5</td>\n",
       "    </tr>\n",
       "    <tr>\n",
       "      <th>1</th>\n",
       "      <td>1</td>\n",
       "      <td>48</td>\n",
       "      <td>4</td>\n",
       "    </tr>\n",
       "    <tr>\n",
       "      <th>2</th>\n",
       "      <td>2</td>\n",
       "      <td>9</td>\n",
       "      <td>9</td>\n",
       "    </tr>\n",
       "    <tr>\n",
       "      <th>3</th>\n",
       "      <td>2</td>\n",
       "      <td>48</td>\n",
       "      <td>2</td>\n",
       "    </tr>\n",
       "    <tr>\n",
       "      <th>4</th>\n",
       "      <td>2</td>\n",
       "      <td>7</td>\n",
       "      <td>10</td>\n",
       "    </tr>\n",
       "    <tr>\n",
       "      <th>...</th>\n",
       "      <td>...</td>\n",
       "      <td>...</td>\n",
       "      <td>...</td>\n",
       "    </tr>\n",
       "    <tr>\n",
       "      <th>110014</th>\n",
       "      <td>19999</td>\n",
       "      <td>43</td>\n",
       "      <td>3</td>\n",
       "    </tr>\n",
       "    <tr>\n",
       "      <th>110015</th>\n",
       "      <td>19999</td>\n",
       "      <td>46</td>\n",
       "      <td>4</td>\n",
       "    </tr>\n",
       "    <tr>\n",
       "      <th>110017</th>\n",
       "      <td>19999</td>\n",
       "      <td>14</td>\n",
       "      <td>9</td>\n",
       "    </tr>\n",
       "    <tr>\n",
       "      <th>110018</th>\n",
       "      <td>20000</td>\n",
       "      <td>39</td>\n",
       "      <td>7</td>\n",
       "    </tr>\n",
       "    <tr>\n",
       "      <th>110019</th>\n",
       "      <td>20000</td>\n",
       "      <td>21</td>\n",
       "      <td>9</td>\n",
       "    </tr>\n",
       "  </tbody>\n",
       "</table>\n",
       "<p>110020 rows × 3 columns</p>\n",
       "</div>"
      ],
      "text/plain": [
       "        orderid  productid  quantity\n",
       "0             1          2         5\n",
       "1             1         48         4\n",
       "2             2          9         9\n",
       "3             2         48         2\n",
       "4             2          7        10\n",
       "...         ...        ...       ...\n",
       "110014    19999         43         3\n",
       "110015    19999         46         4\n",
       "110017    19999         14         9\n",
       "110018    20000         39         7\n",
       "110019    20000         21         9\n",
       "\n",
       "[110020 rows x 3 columns]"
      ]
     },
     "execution_count": 26,
     "metadata": {},
     "output_type": "execute_result"
    }
   ],
   "source": [
    "# sorting the order_items table by using the orderid\n",
    "\n",
    "order_items.sort_values(by=['orderid'])"
   ]
  },
  {
   "cell_type": "code",
   "execution_count": 27,
   "id": "c9fabafc",
   "metadata": {},
   "outputs": [
    {
     "name": "stdout",
     "output_type": "stream",
     "text": [
      "Requirement already satisfied: psycopg2 in c:\\users\\amrit.kumar\\appdata\\local\\anaconda3\\lib\\site-packages (2.9.9)\n",
      "Note: you may need to restart the kernel to use updated packages.\n"
     ]
    }
   ],
   "source": [
    "pip install psycopg2"
   ]
  },
  {
   "cell_type": "code",
   "execution_count": 28,
   "id": "1cc46f23",
   "metadata": {},
   "outputs": [],
   "source": [
    "customer_master.to_csv('customer_master.csv', index=False, header=False)"
   ]
  },
  {
   "cell_type": "code",
   "execution_count": 29,
   "id": "90574a60",
   "metadata": {},
   "outputs": [],
   "source": [
    "product_master.to_csv('product_master.csv', index=False, header=False)"
   ]
  },
  {
   "cell_type": "code",
   "execution_count": 30,
   "id": "140a5be8",
   "metadata": {},
   "outputs": [],
   "source": [
    "order_details.to_csv('order_details.csv', index=False, header=False)"
   ]
  },
  {
   "cell_type": "code",
   "execution_count": 31,
   "id": "c5d9bce3",
   "metadata": {},
   "outputs": [],
   "source": [
    "order_items.to_csv('order_items.csv', index=False, header=False)"
   ]
  },
  {
   "cell_type": "code",
   "execution_count": null,
   "id": "5c4f6b60",
   "metadata": {},
   "outputs": [],
   "source": []
  }
 ],
 "metadata": {
  "kernelspec": {
   "display_name": "Python 3 (ipykernel)",
   "language": "python",
   "name": "python3"
  },
  "language_info": {
   "codemirror_mode": {
    "name": "ipython",
    "version": 3
   },
   "file_extension": ".py",
   "mimetype": "text/x-python",
   "name": "python",
   "nbconvert_exporter": "python",
   "pygments_lexer": "ipython3",
   "version": "3.11.4"
  }
 },
 "nbformat": 4,
 "nbformat_minor": 5
}
